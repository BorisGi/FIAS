{
 "cells": [
  {
   "cell_type": "code",
   "execution_count": 1,
   "metadata": {},
   "outputs": [],
   "source": [
    "import pandas as pd\n",
    "import numpy as np\n",
    "\n",
    "from dbfread import DBF\n",
    "\n",
    "import os\n",
    "from tqdm import tqdm_notebook"
   ]
  },
  {
   "cell_type": "code",
   "execution_count": 2,
   "metadata": {},
   "outputs": [],
   "source": [
    "# загружаем файл с кодами регионов (чтобы потом присваивать файлам нужные имена)\n",
    "\n",
    "reg_code_new = pd.read_csv('reg_code.csv', index_col='regioncode')"
   ]
  },
  {
   "cell_type": "code",
   "execution_count": 3,
   "metadata": {},
   "outputs": [],
   "source": [
    "# создаем датафрейм с названиями регионов и кодами регионов ФИАС\n",
    "\n",
    "reg_code = pd.read_csv('reg_code.csv')\n",
    "\n",
    "reg_code.regioncode = reg_code.regioncode.astype('int32')"
   ]
  },
  {
   "cell_type": "code",
   "execution_count": 4,
   "metadata": {},
   "outputs": [],
   "source": [
    "# создаем на основе списка регионов словарь (чтобы потом присваивать файлам нужные имена)\n",
    "\n",
    "region_name = reg_code_new.to_dict('index')"
   ]
  },
  {
   "cell_type": "code",
   "execution_count": 5,
   "metadata": {},
   "outputs": [],
   "source": [
    "# вытаскиваем названия таблиц в список file_list\n",
    "\n",
    "file_list = []\n",
    "for root, dirs, files in os.walk('C:/00_Projects/Lenin/FIAS'):\n",
    "    for filename in files:\n",
    "        if 'ADDROB' in filename:\n",
    "            file_list += [filename]"
   ]
  },
  {
   "cell_type": "code",
   "execution_count": 6,
   "metadata": {},
   "outputs": [
    {
     "data": {
      "application/vnd.jupyter.widget-view+json": {
       "model_id": "b5af9bc51c1142f2b34ea66aac63fbaf",
       "version_major": 2,
       "version_minor": 0
      },
      "text/plain": [
       "HBox(children=(IntProgress(value=0, max=86), HTML(value='')))"
      ]
     },
     "metadata": {},
     "output_type": "display_data"
    },
    {
     "name": "stdout",
     "output_type": "stream",
     "text": [
      "\n",
      "Wall time: 7min 7s\n"
     ]
    }
   ],
   "source": [
    "%%time\n",
    "\n",
    "# вытаскиваем циклом данные из ФИАСа\n",
    "for i in tqdm_notebook(file_list):\n",
    "    \n",
    "    \n",
    "    # читаем файл\n",
    "    dbf = DBF('C:/00_Projects/Lenin/FIAS/' +i)\n",
    "    data = pd.DataFrame(dbf)\n",
    "    \n",
    "    \n",
    "    # фильтруем данные, оставляем только пустые OFFNAME = 1\n",
    "    \n",
    "    data = data[data.OFFNAME == '']\n",
    "    \n",
    "    \n",
    "    # записываем в файлы\n",
    "    \n",
    "        \n",
    "    # Имена + адреса\n",
    "    csv_name_01 = 'C:/work/FIAS/empty/' +(i[6:8]) +'_' +region_name[int(i[6:8])]['region'] +'.csv'\n",
    "    excel_name_01 = 'C:/work/FIAS/empty/' +(i[6:8]) +'_' +region_name[int(i[6:8])]['region'] +'.xlsx'    \n",
    "\n",
    "    \n",
    "    # запись\n",
    "    data.to_csv(csv_name_01, sep=',', encoding='utf-8', index=False)\n",
    "    data.to_excel(excel_name_01, encoding='utf-8', index=False)"
   ]
  },
  {
   "cell_type": "code",
   "execution_count": null,
   "metadata": {},
   "outputs": [],
   "source": []
  }
 ],
 "metadata": {
  "kernelspec": {
   "display_name": "Python 3",
   "language": "python",
   "name": "python3"
  },
  "language_info": {
   "codemirror_mode": {
    "name": "ipython",
    "version": 3
   },
   "file_extension": ".py",
   "mimetype": "text/x-python",
   "name": "python",
   "nbconvert_exporter": "python",
   "pygments_lexer": "ipython3",
   "version": "3.7.4"
  }
 },
 "nbformat": 4,
 "nbformat_minor": 2
}
